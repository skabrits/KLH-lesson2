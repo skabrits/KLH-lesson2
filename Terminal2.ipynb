{
 "cells": [
  {
   "cell_type": "markdown",
   "id": "c40ce6ec",
   "metadata": {},
   "source": [
    "# Ранбук по теме Работа с командной строкой Linux p2\n",
    "\n",
    "### Дисклеймер\n",
    "\n",
    "*Shell, Terminal, Bash и Консоль &ndash; это не муж и жена, а 4 разных человека, в смысле все эти слова обозначают почти одно и то же, разница в том, что Terminal &ndash; это программа, в которой открывается командная строка линукс, Shell (дословно с английского &ndash; оболочка) &ndash; это собственно командная строка, а Bash &ndash; конкретная имплементация (как ни странно на жаргоне &ndash; оболочка) этой самой командной строки (помимо Bash существуют и другие, имеющие некоторые, как правило не очень сильныке отличия от Bash, напр., Zsh, Ash, Sh и др.)*"
   ]
  },
  {
   "cell_type": "markdown",
   "id": "97e71fb6",
   "metadata": {},
   "source": [
    "## Bash как язык"
   ]
  },
  {
   "cell_type": "markdown",
   "id": "09b733e8",
   "metadata": {},
   "source": [
    "### Переменные, циклы и subshell\n",
    "\n",
    "Как в любом языке программирования в bash есть переменные. Они динамически типизируемые, как и в python."
   ]
  },
  {
   "cell_type": "code",
   "execution_count": null,
   "id": "e16edac6",
   "metadata": {},
   "outputs": [],
   "source": [
    "%%bash\n",
    "# Этот код работает\n",
    "\n",
    "a=\"Hello\"\n",
    "b=\"world!\"\n",
    "c=\"$a ${b}\"  # конкатенация строк, для удобства можно использовать не $variable_name, а ${variable_name}, если\n",
    "             # переменная окружена текстом; переменные вызываются, если находятся в двойных кавычках\n",
    "\n",
    "echo $c\n",
    "\n",
    "echo '$c'    # в одинарных ковычках переменные не подставляются\n",
    "echo \"\\$c\"   # ещё один способ экранировать"
   ]
  },
  {
   "cell_type": "markdown",
   "id": "8d4ab7c8",
   "metadata": {},
   "source": [
    "Можно складывать числа:"
   ]
  },
  {
   "cell_type": "code",
   "execution_count": null,
   "id": "b5e1af4d",
   "metadata": {},
   "outputs": [],
   "source": [
    "%%bash\n",
    "# Этот код работает\n",
    "\n",
    "b=4\n",
    "\n",
    "echo $((1 + b))\n",
    "\n",
    "echo $(((b * 5 - 143) / 10 + 2 ** 2))"
   ]
  },
  {
   "cell_type": "markdown",
   "id": "77b8f6ea",
   "metadata": {},
   "source": [
    "А ещё, можно присваивать в переменную результат выполнения пайплайна &ndash; это делается через вызов subshell (фактически создаётся новая дочерняя (child) сессия bash в которой выполняется код):"
   ]
  },
  {
   "cell_type": "code",
   "execution_count": null,
   "id": "c6eec777",
   "metadata": {},
   "outputs": [],
   "source": [
    "%%bash\n",
    "# Этот код работает\n",
    "\n",
    "current_path=\"$(pwd)\"\n",
    "a=\"$(ls -l)\"\n",
    "a_path=\"$(echo \"Bash path from Subshell: $current_path\")\"  # в subshell копируются все переменные из текущей сессии\n",
    "\n",
    "echo \"Bash:\"\n",
    "ls -l\n",
    "echo \"Subshell:\"\n",
    "echo \"$a\"\n",
    "\n",
    "echo \"Bash path: $current_path\"\n",
    "\n",
    "echo \"$a_path\""
   ]
  },
  {
   "cell_type": "markdown",
   "id": "78614663",
   "metadata": {},
   "source": [
    "Однако, как насчёт изменения переменных в subshell?"
   ]
  },
  {
   "cell_type": "code",
   "execution_count": null,
   "id": "bcf2e9c4",
   "metadata": {},
   "outputs": [],
   "source": [
    "%%bash\n",
    "# Этот код работает\n",
    "\n",
    "a=1\n",
    "\n",
    "echo \"Begining: $a\"\n",
    "\n",
    "echo \"In Subshell: $(a=3; b=5; echo $((a+b)))\"\n",
    "\n",
    "echo \"Variables: a=$a, b=$b\"  # как видим, переменные subshell недоступны в основном процессе и изменение переменных\n",
    "                              # основного процесса в subshell не отражается вне её -- очень напоминает функции\n",
    "                              # языков программирования с их изолированным пространством имён"
   ]
  },
  {
   "cell_type": "markdown",
   "id": "f7f9d45f",
   "metadata": {},
   "source": [
    "В данном случае, однако, не стоит слишком сильно увлекаться ассоциацией функций и subshell &ndash; это именно что другой процесс и единственный способ получить из него данные &ndash; захватить то что он выдаёт."
   ]
  },
  {
   "cell_type": "code",
   "execution_count": null,
   "id": "7a7e0c8b",
   "metadata": {
    "scrolled": true
   },
   "outputs": [],
   "source": [
    "%%bash\n",
    "# Этот код работает\n",
    "\n",
    "a=1\n",
    "\n",
    "set  # а это выводит список всех переменных и функций в сессии"
   ]
  },
  {
   "cell_type": "markdown",
   "id": "d6d9fe09",
   "metadata": {},
   "source": [
    "И классика жанра: циклы"
   ]
  },
  {
   "cell_type": "code",
   "execution_count": null,
   "id": "99faa619",
   "metadata": {
    "scrolled": true
   },
   "outputs": [],
   "source": [
    "%%bash\n",
    "# Этот код работает\n",
    "\n",
    "for i in {1..10};\n",
    "do\n",
    "    echo \"$i\"\n",
    "done"
   ]
  },
  {
   "cell_type": "code",
   "execution_count": null,
   "id": "3513c6e1",
   "metadata": {},
   "outputs": [],
   "source": [
    "%%bash\n",
    "# Этот код работает\n",
    "\n",
    "for i in $(ls -la);  # каждый пробел bash воспринимает как разделитель элементов массива\n",
    "do\n",
    "    echo \"$i\"\n",
    "done"
   ]
  },
  {
   "cell_type": "markdown",
   "id": "ebd4e5a9",
   "metadata": {},
   "source": [
    "#### Проверка корректности\n",
    "\n",
    "Посчитайте суммарное количество файлов и папок в папках Documents и Downloads."
   ]
  },
  {
   "cell_type": "markdown",
   "id": "a35b5640",
   "metadata": {},
   "source": [
    "### Скрипты и переменные окружения\n",
    "\n",
    "Как на любом уважающем себя языке, на bash можно писать скрипты:"
   ]
  },
  {
   "cell_type": "code",
   "execution_count": null,
   "id": "8ad07268",
   "metadata": {},
   "outputs": [],
   "source": [
    "%%bash\n",
    "# Этот код работает\n",
    "\n",
    "cat > my_script.sh <<EOF  # создадим скрипт\n",
    "#!/bin/bash\n",
    "# это нужно для того, чтобы редакторы кода понимали для какого языка делаеть подсветку синтаксиса\n",
    "\n",
    "echo \"Hello!\"\n",
    "EOF\n",
    "\n",
    "chmod +x my_script.sh     # вот тут и понадобился chmod: по умолчанию файл имеет права rw и нужно добавить права x\n",
    "\n",
    "./my_script.sh            # а вот так скрипт выполняется"
   ]
  },
  {
   "cell_type": "markdown",
   "id": "4b1c1583",
   "metadata": {},
   "source": [
    "Но есть нюанс &ndash; переменные в скрипты не передаются:"
   ]
  },
  {
   "cell_type": "code",
   "execution_count": null,
   "id": "6f851a34",
   "metadata": {},
   "outputs": [],
   "source": [
    "%%bash\n",
    "# Этот код работает\n",
    "\n",
    "a=5\n",
    "\n",
    "cat > my_script.sh <<\"EOF\"\n",
    "#!/bin/bash\n",
    "\n",
    "echo \"a=$a\"\n",
    "EOF\n",
    "\n",
    "chmod +x my_script.sh\n",
    "\n",
    "./my_script.sh"
   ]
  },
  {
   "cell_type": "markdown",
   "id": "a5a6ff5e",
   "metadata": {},
   "source": [
    "Это связано с тем, что скрипт выполняется в новой сессии shell, не являющейся дочерней для текущей, то есть никакие данные из текущей сессии туда не копируются.\n",
    "\n",
    "Раз обычные переменные не передаются в скрипты, должы быть какие-то другие способы передать данные. И способа целых два, первый &ndash; это environment variables (переменные окружения), которые соответствуют глобальным переменным в других языках программирования:"
   ]
  },
  {
   "cell_type": "code",
   "execution_count": null,
   "id": "5abf8fa1",
   "metadata": {},
   "outputs": [],
   "source": [
    "%%bash\n",
    "# Этот код работает\n",
    "\n",
    "export A=1  # создаём переменную окружения\n",
    "\n",
    "cat > my_script.sh <<\"EOF\"\n",
    "#!/bin/bash\n",
    "\n",
    "echo \"A=$A\"\n",
    "\n",
    "A=5\n",
    "\n",
    "export B=6\n",
    "EOF\n",
    "\n",
    "chmod +x my_script.sh\n",
    "\n",
    "./my_script.sh\n",
    "\n",
    "echo \"A=$A, B=$B\"  # а вот назад из скрипта environment variables не передаются -- передача идёт только по\n",
    "                   #                                                                    нисходящей вызовов скриптов"
   ]
  },
  {
   "cell_type": "code",
   "execution_count": null,
   "id": "657238e3",
   "metadata": {
    "scrolled": true
   },
   "outputs": [],
   "source": [
    "%%bash\n",
    "# Этот код работает\n",
    "\n",
    "env  # позволяет посмотреть все имеющиеся переменные окружения"
   ]
  },
  {
   "cell_type": "markdown",
   "id": "b0d19f6e",
   "metadata": {},
   "source": [
    "Переменные окружения часто используются для настройки программ и передачи данных между процессами, например, чтобы указать backend серверу ссылку из под которой виден frontend, чтобы правильно перенаправлять запрос и рендерить файлы или по какому адресу находится база данных и какой от неё пароль. Заходя в систему у вас уже есть немало переменных окружения. Например, переменная `HOME` указывает на домашнюю папку, которая открывается, когда вы пишете `cd ~`, а переменная `PATH` хранит пути по которым bash ищет исполняемые скрипты. Чтобы не писать каждый раз как мы это делали `./my_script.sh`, а если точнее `<path to script>/my_script.sh`, мы можем добавить папку в которой лежит наш скрипт в `PATH` и скрипт будет вызываться просто так `my_script.sh`. Кстати, `find` или `env` &ndash; тоже скрипты и они лежат в папке `/bin` (~ binary &ndash; нетекстовое/скомпилированное под систему).\n",
    "\n",
    "К слову, есть вариант выполнить скрипт не в новой сессии shell, а в текущей, для этого используют команду `source`: `source my_script.sh` или что то же самое `. my_script.sh`."
   ]
  },
  {
   "cell_type": "code",
   "execution_count": null,
   "id": "3756c64e",
   "metadata": {
    "scrolled": true
   },
   "outputs": [],
   "source": [
    "%%bash\n",
    "# Этот код работает\n",
    "\n",
    "export PATH=\"$PATH:$(pwd)\"                         # чтобы не стереть весь PATH -- добавляем наш путь в конец\n",
    "\n",
    "my_script.sh\n",
    "\n",
    "ls /bin | grep -e \"^env$\" -e \"^find$\" -e \"^grep$\"  # все эти скрипты лежат в /bin"
   ]
  },
  {
   "cell_type": "markdown",
   "id": "8b006921",
   "metadata": {},
   "source": [
    "Однако, есть бяда: наши envs (так сокращают environment variables) исчезают, стоит нам перезапустить сессию shell, но иногда, хочется, чтобы они были вечны. Тогда на помощь приходит файлик `~/.bash_profile`, который позволяет выполнять команды при запуске командной строки и может дать долголетие нашим энвам."
   ]
  },
  {
   "cell_type": "code",
   "execution_count": null,
   "id": "d9a521c2",
   "metadata": {},
   "outputs": [],
   "source": [
    "%%bash\n",
    "# Этот код работает\n",
    "\n",
    "echo \"export MY_ENV_VAR=\\\"Hello world!\\\"\" >> ~/.bash_profile"
   ]
  },
  {
   "cell_type": "code",
   "execution_count": null,
   "id": "fda80ff8",
   "metadata": {},
   "outputs": [],
   "source": [
    "%%bash\n",
    "# Этот код работает\n",
    "\n",
    "bash -c 'echo $MY_ENV_VAR'"
   ]
  },
  {
   "cell_type": "markdown",
   "id": "39e23261",
   "metadata": {},
   "source": [
    "#### Проверка корректности\n",
    "\n",
    "Создайте скрипт, читающий пользователей из файла и генерирующий случайный пароль для каждого в списке. Результат должен записываться в отдельный файл в формате `имя пользователя: пароль`. Сделайте так, чтобы его можно было выполнять не указывая путь до него. Может пригодится команда base64, которая принимает текст или байты на вход и выдаёт строку из читаемых символов (пример использования: `echo \"Hello World!\" | base64`)."
   ]
  },
  {
   "cell_type": "markdown",
   "id": "212baa7f",
   "metadata": {},
   "source": [
    "### Аргументы и операторы\n",
    "\n",
    "Возвращаясь к скриптам, второй способ передачи данных в скрипт &ndash; аргументы скрипта. С некоторыми вы уже знакомы, например, флаг `-a` в команде `ls -a` &ndash; это аргумент, как и `~` в команде `cd ~`. Соответственно `ls` и `cd` &ndash; такие же скрипты, как и те, что пишем мы с вами. "
   ]
  },
  {
   "cell_type": "code",
   "execution_count": null,
   "id": "b3a8833e",
   "metadata": {},
   "outputs": [],
   "source": [
    "%%bash\n",
    "# Этот код работает\n",
    "\n",
    "cat > my_script.sh <<\"EOF\"\n",
    "#!/bin/bash\n",
    "\n",
    "echo \"Script path: $0\"\n",
    "\n",
    "echo \"All arguments: $@\"\n",
    "\n",
    "echo \"First argument: $1\"\n",
    "\n",
    "echo \"Second argument: $2\"\n",
    "\n",
    "echo \"last argument: ${@: -1}\"   # $@ -- массив в bash, соответственно ${array: index} позволяет брать элемент \n",
    "                                 #                                                    массива array с номером index\n",
    "\n",
    "echo \"Tenth argument: ${10}\"     # не существует => пустое место\n",
    "\n",
    "SCRIPT=$(readlink -f \"$0\")       # по относительному пути скрипта, возвращаемому в $0 возвращает полный путь скрипта\n",
    "\n",
    "SCRIPTPATH=$(dirname \"$SCRIPT\")  # выдаёт папку в которой лежит указанный файл\n",
    "\n",
    "echo $SCRIPT\n",
    "echo $SCRIPTPATH\n",
    "EOF\n",
    "\n",
    "chmod +x my_script.sh\n",
    "\n",
    "mkdir test && cd test\n",
    "\n",
    "../my_script.sh -l test --help   # вызываем скрипт с параметрами\n",
    "\n",
    "cd .. && rm -r test"
   ]
  },
  {
   "cell_type": "markdown",
   "id": "3bd0e647",
   "metadata": {},
   "source": [
    "Как видим, флаг &ndash; это тот же параметр, ничего загадочного в нём нет. Но тогда как команды типа ls разбираются с флагами? \n",
    "\n",
    "**Эта часть необязательна**"
   ]
  },
  {
   "cell_type": "code",
   "execution_count": null,
   "id": "dd55aad4",
   "metadata": {},
   "outputs": [],
   "source": [
    "%%bash\n",
    "# Этот код работает\n",
    "\n",
    "cat > my_script.sh <<\"EOF\"\n",
    "#!/bin/bash\n",
    "\n",
    "options=\":f:ed\"             # первое двоеточие нужно, чтобы скрипт выбирал вариант \\? если указана какая-либо\n",
    "                            #                                                                     неуказанная опция\n",
    "                            # далее идут буквы флагов (опции), если после буквы стоит двоеточие -- этот флаг ожидает\n",
    "                            #                                                                              аргумента\n",
    "\n",
    "while getopts $options opt  # это цикл while, самый обычный, а команда getopts перебирает опции на каждой итерации,\n",
    "do                          #                                                    записывая текущую в переменную opt\n",
    "\n",
    "        case $opt in        # switch: если переменная opt равна какой-то из перечисленных букв \n",
    "                            # (указан соответствующий флаг -f, -e или -d), то выполняется одна из следующих строчек\n",
    "                            \n",
    "                f) echo \"-f flag chosen\"; echo \"-f flag argument: $OPTARG\";;    # OPTARG -- аргумент флага\n",
    "                                                            # ;; - необходимо, чтобы найдя первое совпадение флага\n",
    "                                                            # прекращалась проверка дальнейших пунктов и while\n",
    "                                                            # уходил на следующую итерацию.\n",
    "                \n",
    "                e) echo \"-e flag chosen\" ;;                 # флаг не ожидающий аргумента\n",
    "                d) echo \"-d flag chosen\" ;;\n",
    "                \\? ) echo \"Unknown option: -$OPTARG\" >&2;;  # вызывается, если указана \n",
    "                                                            #                 неизвестная опция\n",
    "                                                                                \n",
    "                :  ) echo \"Missing option argument for -$OPTARG\" >&2;;  # вызывается, если указан флаг,\n",
    "                                                                        # ожидающий аргумента, но аргумент\n",
    "                                                                        #                        не передан\n",
    "                                                                                \n",
    "                *  ) echo \"Default option\";;                            # вызывается, если ни один из выше- \n",
    "                                                                        # перечисленных вариантов не сработал\n",
    "                                                                          \n",
    "        esac\n",
    "        \n",
    "done\n",
    "\n",
    "\n",
    "EOF\n",
    "\n",
    "chmod +x my_script.sh\n",
    "\n",
    "./my_script.sh -f \"./authData.yaml.zip\" -e -a"
   ]
  },
  {
   "cell_type": "markdown",
   "id": "ca2f18bc",
   "metadata": {},
   "source": [
    "Иногда необходимо принимать решения, тогда на помощь приходит if-else:\n",
    "\n",
    "**А эта обязательна**"
   ]
  },
  {
   "cell_type": "code",
   "execution_count": null,
   "id": "7aeb194e",
   "metadata": {},
   "outputs": [],
   "source": [
    "%%bash\n",
    "# Этот код работает\n",
    "\n",
    "cat > my_script.sh <<\"EOF\"                   # скрипт провряет расширение файла\n",
    "#!/bin/bash\n",
    "\n",
    "\n",
    "if [ ! -z \"$(echo \"$1\" | grep \".yaml\")\" ]    # тестовое условие заключено в квадратные скобки, \"!\" означает not, \"-z\" \n",
    "                                             # тестирует на то, не пустая ли строчка\n",
    "then\n",
    "    echo \"entered yaml file\"\n",
    "elif [ ! -z \"$(echo \"$1\" | grep \".json\")\" ]  # grep фильтрует расширение файла\n",
    "then\n",
    "    echo \"entered json file\"\n",
    "else\n",
    "    echo \"no file entered\"\n",
    "    exit 1;\n",
    "fi\n",
    "\n",
    "EOF\n",
    "\n",
    "chmod +x my_script.sh\n",
    "\n",
    "./my_script.sh \"./authData.yaml\""
   ]
  },
  {
   "cell_type": "markdown",
   "id": "bb1ae65f",
   "metadata": {},
   "source": [
    "## Задачи\n",
    "\n",
    "1. Напишите скрипт, заменяющий расширение в имени файла на указанное. В качестве параметров после флагов будет передаваться исходное имя файла и расширение на которое нужно заменить.\n",
    "\n",
    "2. Напишите скрипт, который имплементирует функцию поиска файлового проводника, в зависимости от флага ищет или по именам файлов или по их содержанию рекурсивно в указанной папке.\n",
    "\n",
    "3. Напишите скрипт, который в зависимости от флага зашифровывает/расшифровывает файл паролем (подсказка: используйте OpenSSL). "
   ]
  }
 ],
 "metadata": {
  "kernelspec": {
   "display_name": "Python 3 (ipykernel)",
   "language": "python",
   "name": "python3"
  },
  "language_info": {
   "codemirror_mode": {
    "name": "ipython",
    "version": 3
   },
   "file_extension": ".py",
   "mimetype": "text/x-python",
   "name": "python",
   "nbconvert_exporter": "python",
   "pygments_lexer": "ipython3",
   "version": "3.7.9"
  }
 },
 "nbformat": 4,
 "nbformat_minor": 5
}
